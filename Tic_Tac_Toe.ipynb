{
  "cells": [
    {
      "cell_type": "markdown",
      "metadata": {
        "id": "view-in-github",
        "colab_type": "text"
      },
      "source": [
        "<a href=\"https://colab.research.google.com/github/anyomonus/tictactoe/blob/main/Tic_Tac_Toe.ipynb\" target=\"_parent\"><img src=\"https://colab.research.google.com/assets/colab-badge.svg\" alt=\"Open In Colab\"/></a>"
      ]
    },
    {
      "cell_type": "code",
      "execution_count": 2,
      "metadata": {
        "colab": {
          "base_uri": "https://localhost:8080/"
        },
        "id": "qENFxUyudVzz",
        "outputId": "a74af4a5-b2a9-41c1-a0b4-c47f9b17197e"
      },
      "outputs": [
        {
          "name": "stdout",
          "output_type": "stream",
          "text": [
            "['tl', 'tm', 'tr']\n",
            "['ml', 'mm', 'mr']\n",
            "['bl', 'bm', 'br']\n",
            "select from grid tl\n",
            "tl\n",
            "['tl', 'tm', 'tr']\n",
            "['ml', 'mm', 'mr']\n",
            "['bl', 'bm', 'br']\n",
            "select from grid exit\n"
          ]
        }
      ],
      "source": [
        "#personal challenge: tic tac toe\n",
        "top = ['tl', 'tm', 'tr']\n",
        "middle = ['ml', 'mm', 'mr']\n",
        "bottom = ['bl', 'bm', 'br']\n",
        "grid = [top, middle, bottom]\n",
        "p1 = []\n",
        "p2 = []\n",
        "# s means selection\n",
        "turn = 1\n",
        "\n",
        "while turn < 10:\n",
        "  print(top)\n",
        "  print(middle)\n",
        "  print(bottom)\n",
        "  selection = input(\"select from grid \")\n",
        "#this top section sets up the turn\n",
        "  if str(selection) in top or str(selection) in middle or str(selection) in bottom:\n",
        "    print(selection)\n",
        "    #by printing selection programmer can check what was selected\n",
        "    #reduces chance of error\n",
        "  elif selection == 'exit':\n",
        "    break\n",
        "    #allows me to exit program easily without ending directly\n",
        "  else:\n",
        "    print('that does not work, try again')\n",
        "    #print(grid)\n",
        " \n",
        "  if len(selection) < 1:\n",
        "    #makes it so typing a single digit doesn't mess with the program\n",
        "    if turn % 2 != 0:\n",
        "      #determines even or odd, then which player\n",
        "      #each if, elif, and else checks what to replace\n",
        "      if selection in top:\n",
        "        top = list(map(lambda item: item.replace(selection, 'p1'), top))\n",
        "        p1.append(selection)\n",
        "\n",
        "      elif selection in middle:\n",
        "        middle = list(map(lambda item: item.replace(selection, 'p1'), middle))\n",
        "        p1.append(selection)\n",
        "\n",
        "      else:\n",
        "        bottom = list(map(lambda item: item.replace(selection, 'p1'), bottom))\n",
        "        p1.append(selection)\n",
        "      turn += 1\n",
        "\n",
        "    else:\n",
        "      if selection in top:\n",
        "        top = list(map(lambda item: item.replace(selection, 'p2'), top))\n",
        "        p2.append(selection)\n",
        "      elif selection in middle:\n",
        "        middle = list(map(lambda item: item.replace(selection, 'p2'), middle))\n",
        "        p2.append(selection)\n",
        "      else:\n",
        "        bottom = list(map(lambda item: item.replace(selection, 'p2'), bottom))\n",
        "        p2.append(selection)\n",
        "      turn += 1\n",
        "  \n",
        "  print(p1)\n",
        "  print(p2)\n",
        "  #final printing for test per turn"
      ]
    }
  ],
  "metadata": {
    "colab": {
      "provenance": [],
      "authorship_tag": "ABX9TyMBjwZuArkDmfES3mVdnjp3",
      "include_colab_link": true
    },
    "kernelspec": {
      "display_name": "Python 3",
      "name": "python3"
    },
    "language_info": {
      "name": "python"
    }
  },
  "nbformat": 4,
  "nbformat_minor": 0
}